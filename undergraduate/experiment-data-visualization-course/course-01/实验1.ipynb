{
 "cells": [
  {
   "metadata": {},
   "cell_type": "markdown",
   "source": "（1）创建随机的一维数组、二维数组，并查看相关属性。",
   "id": "789ed06504ac27c4"
  },
  {
   "metadata": {
    "ExecuteTime": {
     "end_time": "2024-09-05T01:45:25.449821Z",
     "start_time": "2024-09-05T01:45:25.443817Z"
    }
   },
   "cell_type": "code",
   "source": [
    "import numpy as np\n",
    "import random"
   ],
   "id": "f9ad867fe9c81c59",
   "outputs": [],
   "execution_count": 318
  },
  {
   "metadata": {
    "ExecuteTime": {
     "end_time": "2024-09-05T01:45:25.465821Z",
     "start_time": "2024-09-05T01:45:25.457821Z"
    }
   },
   "cell_type": "code",
   "source": [
    "# 创建一维数组\n",
    "a_random_array_1 = np.random.randint(1, 10, 10)\n",
    "print(a_random_array_1)\n",
    "\n",
    "# 查看a_random_array_1的属性\n",
    "print(\"形状 (shape):\", a_random_array_1.shape)\n",
    "print(\"数据类型 (dtype):\", a_random_array_1.dtype)\n",
    "print(\"元素数量 (size):\", a_random_array_1.size)"
   ],
   "id": "7d20e6e76ae618b6",
   "outputs": [
    {
     "name": "stdout",
     "output_type": "stream",
     "text": [
      "[8 3 4 7 3 6 6 5 5 6]\n",
      "形状 (shape): (10,)\n",
      "数据类型 (dtype): int32\n",
      "元素数量 (size): 10\n"
     ]
    }
   ],
   "execution_count": 319
  },
  {
   "metadata": {
    "ExecuteTime": {
     "end_time": "2024-09-05T01:45:25.481439Z",
     "start_time": "2024-09-05T01:45:25.468870Z"
    }
   },
   "cell_type": "code",
   "source": [
    "# 创建二维数组\n",
    "a_random_array_2 = np.random.randint(1, 10, (3, 6))\n",
    "print(a_random_array_2)\n",
    "\n",
    "# 查看a_random_array_2的属性\n",
    "print(\"形状 (shape):\", a_random_array_2.shape)\n",
    "print(\"数据类型 (dtype):\", a_random_array_2.dtype)\n",
    "print(\"元素数量 (size):\", a_random_array_2.size)"
   ],
   "id": "81da4408f41a080f",
   "outputs": [
    {
     "name": "stdout",
     "output_type": "stream",
     "text": [
      "[[7 9 3 8 6 1]\n",
      " [5 3 6 6 7 9]\n",
      " [8 5 1 3 4 9]]\n",
      "形状 (shape): (3, 6)\n",
      "数据类型 (dtype): int32\n",
      "元素数量 (size): 18\n"
     ]
    }
   ],
   "execution_count": 320
  },
  {
   "metadata": {},
   "cell_type": "markdown",
   "source": "根据上述实验内容与要求中3.中所学的的知识array的便捷函数，创建二维数组",
   "id": "3944c1130e085436"
  },
  {
   "metadata": {},
   "cell_type": "markdown",
   "source": "根据自己所创建的数组，根据4.中所学知识，实现数组的转换，相加减操作。",
   "id": "97ed3ec9379d01e5"
  },
  {
   "metadata": {
    "ExecuteTime": {
     "end_time": "2024-09-05T01:45:25.512464Z",
     "start_time": "2024-09-05T01:45:25.482442Z"
    }
   },
   "cell_type": "code",
   "source": [
    "array1_reshaped = a_random_array_2.reshape(2, 5)\n",
    "print(array1_reshaped)"
   ],
   "id": "c05304865dd40507",
   "outputs": [
    {
     "ename": "ValueError",
     "evalue": "cannot reshape array of size 18 into shape (2,5)",
     "output_type": "error",
     "traceback": [
      "\u001B[1;31m---------------------------------------------------------------------------\u001B[0m",
      "\u001B[1;31mValueError\u001B[0m                                Traceback (most recent call last)",
      "Cell \u001B[1;32mIn[321], line 1\u001B[0m\n\u001B[1;32m----> 1\u001B[0m array1_reshaped \u001B[38;5;241m=\u001B[39m \u001B[43ma_random_array_2\u001B[49m\u001B[38;5;241;43m.\u001B[39;49m\u001B[43mreshape\u001B[49m\u001B[43m(\u001B[49m\u001B[38;5;241;43m2\u001B[39;49m\u001B[43m,\u001B[49m\u001B[43m \u001B[49m\u001B[38;5;241;43m5\u001B[39;49m\u001B[43m)\u001B[49m\n\u001B[0;32m      2\u001B[0m \u001B[38;5;28mprint\u001B[39m(array1_reshaped)\n",
      "\u001B[1;31mValueError\u001B[0m: cannot reshape array of size 18 into shape (2,5)"
     ]
    }
   ],
   "execution_count": 321
  },
  {
   "metadata": {},
   "cell_type": "code",
   "source": [
    "# 数组相加\n",
    "array_sum = a_random_array_1 + a_random_array_2\n",
    "print(array_sum)"
   ],
   "id": "70f65736b3c3fc8e",
   "outputs": [],
   "execution_count": null
  },
  {
   "metadata": {},
   "cell_type": "code",
   "source": [
    "# 数组相减\n",
    "array_diff = array1 - array2\n",
    "print(\"Difference of Array 1 and Array 2:\")\n",
    "print(array_diff)\n",
    "\n",
    "# 数组相乘\n",
    "array_prod = array1 * array2\n",
    "print(\"Element-wise product of Array 1 and Array 2:\")\n",
    "print(array_prod)\n",
    "\n",
    "# 数组相除\n",
    "array_div = array1 / array2\n",
    "print(\"Element-wise division of Array 1 by Array 2:\")\n",
    "print(array_div)\n"
   ],
   "id": "705c8e3560d77bf6",
   "outputs": [],
   "execution_count": null
  },
  {
   "metadata": {},
   "cell_type": "code",
   "source": "",
   "id": "b70b45838c6a61d",
   "outputs": [],
   "execution_count": null
  }
 ],
 "metadata": {
  "kernelspec": {
   "display_name": "Python 3",
   "language": "python",
   "name": "python3"
  },
  "language_info": {
   "codemirror_mode": {
    "name": "ipython",
    "version": 2
   },
   "file_extension": ".py",
   "mimetype": "text/x-python",
   "name": "python",
   "nbconvert_exporter": "python",
   "pygments_lexer": "ipython2",
   "version": "2.7.6"
  }
 },
 "nbformat": 4,
 "nbformat_minor": 5
}
