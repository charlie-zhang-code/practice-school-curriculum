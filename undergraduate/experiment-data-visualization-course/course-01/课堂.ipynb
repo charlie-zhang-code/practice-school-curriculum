{
 "cells": [
  {
   "cell_type": "code",
   "id": "initial_id",
   "metadata": {
    "collapsed": true,
    "ExecuteTime": {
     "end_time": "2024-09-05T01:19:56.725868Z",
     "start_time": "2024-09-05T01:19:56.711871Z"
    }
   },
   "source": "import numpy as np",
   "outputs": [],
   "execution_count": 36
  },
  {
   "metadata": {
    "ExecuteTime": {
     "end_time": "2024-09-05T01:19:56.741866Z",
     "start_time": "2024-09-05T01:19:56.728870Z"
    }
   },
   "cell_type": "code",
   "source": "np.arange(10)",
   "id": "35b58a3a35ccb373",
   "outputs": [
    {
     "data": {
      "text/plain": [
       "array([0, 1, 2, 3, 4, 5, 6, 7, 8, 9])"
      ]
     },
     "execution_count": 37,
     "metadata": {},
     "output_type": "execute_result"
    }
   ],
   "execution_count": 37
  },
  {
   "metadata": {
    "ExecuteTime": {
     "end_time": "2024-09-05T01:19:56.756870Z",
     "start_time": "2024-09-05T01:19:56.743868Z"
    }
   },
   "cell_type": "code",
   "source": "np.ones(10)",
   "id": "4a63aa2da513b20",
   "outputs": [
    {
     "data": {
      "text/plain": [
       "array([1., 1., 1., 1., 1., 1., 1., 1., 1., 1.])"
      ]
     },
     "execution_count": 38,
     "metadata": {},
     "output_type": "execute_result"
    }
   ],
   "execution_count": 38
  },
  {
   "metadata": {
    "ExecuteTime": {
     "end_time": "2024-09-05T01:19:56.772883Z",
     "start_time": "2024-09-05T01:19:56.758870Z"
    }
   },
   "cell_type": "code",
   "source": "np.ones((2,3))",
   "id": "ba3e9466c6b9aef2",
   "outputs": [
    {
     "data": {
      "text/plain": [
       "array([[1., 1., 1.],\n",
       "       [1., 1., 1.]])"
      ]
     },
     "execution_count": 39,
     "metadata": {},
     "output_type": "execute_result"
    }
   ],
   "execution_count": 39
  },
  {
   "metadata": {
    "ExecuteTime": {
     "end_time": "2024-09-05T01:19:56.788867Z",
     "start_time": "2024-09-05T01:19:56.775870Z"
    }
   },
   "cell_type": "code",
   "source": "np.full(10, 666)",
   "id": "7ecb081bbdebf3f3",
   "outputs": [
    {
     "data": {
      "text/plain": [
       "array([666, 666, 666, 666, 666, 666, 666, 666, 666, 666])"
      ]
     },
     "execution_count": 40,
     "metadata": {},
     "output_type": "execute_result"
    }
   ],
   "execution_count": 40
  },
  {
   "metadata": {
    "ExecuteTime": {
     "end_time": "2024-09-05T01:19:56.803885Z",
     "start_time": "2024-09-05T01:19:56.790871Z"
    }
   },
   "cell_type": "code",
   "source": "np.full((2, 3), 333)",
   "id": "6092d9daa643441c",
   "outputs": [
    {
     "data": {
      "text/plain": [
       "array([[333, 333, 333],\n",
       "       [333, 333, 333]])"
      ]
     },
     "execution_count": 41,
     "metadata": {},
     "output_type": "execute_result"
    }
   ],
   "execution_count": 41
  },
  {
   "metadata": {
    "ExecuteTime": {
     "end_time": "2024-09-05T01:19:56.819870Z",
     "start_time": "2024-09-05T01:19:56.805870Z"
    }
   },
   "cell_type": "code",
   "source": "np.arange(2,10,2)",
   "id": "e6eda6cef519b811",
   "outputs": [
    {
     "data": {
      "text/plain": [
       "array([2, 4, 6, 8])"
      ]
     },
     "execution_count": 42,
     "metadata": {},
     "output_type": "execute_result"
    }
   ],
   "execution_count": 42
  }
 ],
 "metadata": {
  "kernelspec": {
   "display_name": "Python 3",
   "language": "python",
   "name": "python3"
  },
  "language_info": {
   "codemirror_mode": {
    "name": "ipython",
    "version": 2
   },
   "file_extension": ".py",
   "mimetype": "text/x-python",
   "name": "python",
   "nbconvert_exporter": "python",
   "pygments_lexer": "ipython2",
   "version": "2.7.6"
  }
 },
 "nbformat": 4,
 "nbformat_minor": 5
}
